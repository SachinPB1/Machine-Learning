{
 "cells": [
  {
   "cell_type": "markdown",
   "metadata": {},
   "source": [
    "# <font color='green'>                        Statistics:</font>\n",
    "\n",
    "\n",
    "\n",
    "\n",
    "- Statistics is a Branch of  mathematics deling with  Data collection,  Data analysis,interpretation  and presentation of data.\n",
    "\n",
    "### Type of Statistics\n",
    "\n",
    "\n",
    "-  Descriptive Statistics \n",
    "\n",
    "\n",
    "\n",
    "- Inferential Statistics "
   ]
  },
  {
   "cell_type": "markdown",
   "metadata": {},
   "source": [
    "## <font color='blue'>Descriptive Statistics:</font>"
   ]
  },
  {
   "cell_type": "markdown",
   "metadata": {},
   "source": [
    "- It help to organize data, analyse and present the data in meaning full way\n",
    "\n",
    "\n",
    "\n",
    "**Descriptive Statistics They have two types :-**\n",
    "\n",
    "\n",
    "- **Measure of central tendency:----** This is like Data Center of Gravity. This gives us single value from our data set.\n",
    "  \n",
    "  Mean, Median, Mode,\n",
    "\n",
    "\n",
    "\n",
    "- **Measure of Variabilty:-----** It tells about the Spread\n",
    "\n",
    "  Range,  Variance,  standard deviation \n"
   ]
  },
  {
   "cell_type": "markdown",
   "metadata": {},
   "source": [
    "### <font color='blue'>Mean              </font>\n",
    "\n",
    "\n",
    "- Mean is the average of the given numbers and is calculated by dividing the sum of given numbers by the total number of numbers.\n"
   ]
  },
  {
   "cell_type": "code",
   "execution_count": 26,
   "metadata": {},
   "outputs": [],
   "source": [
    "import warnings\n",
    "\n",
    "# Suppress all warnings\n",
    "warnings.filterwarnings('ignore')"
   ]
  },
  {
   "cell_type": "code",
   "execution_count": 2,
   "metadata": {},
   "outputs": [
    {
     "name": "stdout",
     "output_type": "stream",
     "text": [
      "90.0\n",
      "maths_marks    90.000000\n",
      "stats_marks    91.666667\n",
      "dtype: float64\n"
     ]
    }
   ],
   "source": [
    "import numpy as np\n",
    "import pandas as pd\n",
    "\n",
    "data=pd.DataFrame({\"name\":[\"sachin\",\"arjun\",\"tejas\"],\n",
    "                   \"maths_marks\":[85,90,95],\n",
    "                   \"stats_marks\":[92,98,85]})\n",
    "\n",
    "mean=data[\"maths_marks\"].mean()           #-----------------------> find the Single Variable Mean\n",
    "print(mean)\n",
    "\n",
    "mean_1 = np.mean(data)                    #-----------------------> Using Numpy to check Mean\n",
    "print(mean_1)"
   ]
  },
  {
   "cell_type": "markdown",
   "metadata": {},
   "source": [
    "###  <font color='blue'>Median               </font>\n",
    "\n",
    "\n",
    "- The median is the value in the middle of a data set,\n",
    "\n",
    "\n"
   ]
  },
  {
   "cell_type": "code",
   "execution_count": 3,
   "metadata": {},
   "outputs": [
    {
     "name": "stdout",
     "output_type": "stream",
     "text": [
      "90.0\n",
      "maths_marks    90.0\n",
      "stats_marks    92.0\n",
      "dtype: float64\n"
     ]
    }
   ],
   "source": [
    "import numpy as np\n",
    "import pandas as pd\n",
    "\n",
    "data=pd.DataFrame({\"name\":[\"sachin\",\"arjun\",\"tejas\"],\n",
    "                   \"maths_marks\":[85,90,95],\n",
    "                   \"stats_marks\":[92,98,85]})\n",
    "\n",
    "median=data[\"maths_marks\"].median()        #-----------------------> find the Single Variable median\n",
    "print(median)\n",
    "\n",
    "# Compute medians in a single line\n",
    "\n",
    "medians = data[[\"maths_marks\", \"stats_marks\"]].apply(pd.Series.median)\n",
    "\n",
    "print(medians)"
   ]
  },
  {
   "cell_type": "markdown",
   "metadata": {},
   "source": [
    "###  <font color='blue'>Mode                </font>\n",
    "\n",
    "\n",
    "\n",
    "\n",
    "- The most frequently repeated number in a data set.\n"
   ]
  },
  {
   "cell_type": "code",
   "execution_count": 4,
   "metadata": {},
   "outputs": [
    {
     "name": "stdout",
     "output_type": "stream",
     "text": [
      "0    10\n",
      "dtype: int64\n",
      "    A   B   C\n",
      "0  10  40  50\n"
     ]
    }
   ],
   "source": [
    "import pandas as pd\n",
    "import numpy as np\n",
    "\n",
    "data=pd.DataFrame({\"A\":[10,202,30,10],\n",
    "                   \"B\":[20,202,40,40],\n",
    "                   \"C\":[30,202,50,50]})\n",
    "mode = data[\"A\"].mode()                  #-----------------------> Checking Single Variable Mode\n",
    "print(mode)\n",
    "\n",
    "mode_1 = data.mode()                      #-----------------------> Checking all variables  Mode\n",
    "print(mode_1)\n"
   ]
  },
  {
   "cell_type": "markdown",
   "metadata": {},
   "source": [
    "###  <font color='blue'>Range                </font>\n",
    "\n",
    "\n",
    "\n",
    "\n",
    "- The difference between the maximum and minimum values in a data set.\n",
    "\n",
    "\n",
    "\n"
   ]
  },
  {
   "cell_type": "code",
   "execution_count": 5,
   "metadata": {},
   "outputs": [
    {
     "name": "stdout",
     "output_type": "stream",
     "text": [
      "10\n"
     ]
    }
   ],
   "source": [
    "import numpy as np\n",
    "import pandas as pd\n",
    "\n",
    "data=pd.DataFrame({\"name\":[\"sachin\",\"arjun\",\"tejas\"],\n",
    "                   \"maths_marks\":[85,90,95],\n",
    "                   \"stats_marks\":[92,98,85]})\n",
    "\n",
    "\n",
    "Range = np.max(data[\"maths_marks\"]) - np.min(data[\"maths_marks\"])  #--------------------> find range of maths_marks\n",
    "print(Range)  \n"
   ]
  },
  {
   "cell_type": "markdown",
   "metadata": {},
   "source": [
    "### <font color='blue'>Variance              </font>\n",
    "\n",
    "\n",
    "\n",
    "- It measures how far each data points are spread out from the mean value. "
   ]
  },
  {
   "cell_type": "code",
   "execution_count": 6,
   "metadata": {},
   "outputs": [
    {
     "name": "stdout",
     "output_type": "stream",
     "text": [
      "16.666666666666668\n",
      "16.666666666666668\n"
     ]
    }
   ],
   "source": [
    "import numpy as np\n",
    "import pandas as pd\n",
    "\n",
    "data=pd.DataFrame({\"name\":[\"sachin\",\"arjun\",\"tejas\"],\n",
    "                   \"maths_marks\":[85,90,95],\n",
    "                   \"stats_marks\":[92,98,85]})\n",
    "\n",
    "varince_numpy = np.var(data[\"maths_marks\"],ddof=0)    # Using NumPy\n",
    "print(varince_numpy)\n",
    "\n",
    "variance_pandas = data['maths_marks'].var(ddof=0)     # Using pandas\n",
    "print(variance_pandas)\n",
    "\n",
    "# ddof=0 -----------> For Population data \n",
    "# ddof=1 -----------> For Sample data "
   ]
  },
  {
   "cell_type": "markdown",
   "metadata": {},
   "source": [
    "### <font color='blue'>Standard Deviation           </font>\n",
    "\n",
    "\n",
    "\n",
    "- Square root for the variance"
   ]
  },
  {
   "cell_type": "code",
   "execution_count": 7,
   "metadata": {},
   "outputs": [
    {
     "name": "stdout",
     "output_type": "stream",
     "text": [
      "4.08248290463863\n",
      "4.08248290463863\n"
     ]
    }
   ],
   "source": [
    "import numpy as np\n",
    "import pandas as pd\n",
    "\n",
    "data=pd.DataFrame({\"name\":[\"sachin\",\"arjun\",\"tejas\"],\n",
    "                   \"maths_marks\":[85,90,95],\n",
    "                   \"stats_marks\":[92,98,85]})\n",
    "\n",
    "std_dev_numpy = np.std(data[\"maths_marks\"], ddof=0)      # Using NumPy\n",
    "print(std_dev_numpy)\n",
    "\n",
    "\n",
    "std_dev_pandas = data['maths_marks'].std(ddof=0)          # Using pandas\n",
    "print(std_dev_pandas)"
   ]
  },
  {
   "cell_type": "markdown",
   "metadata": {},
   "source": [
    "## <font color='blue'>Correlation          </font>\n",
    "\n",
    "\n",
    "- It measure the strength and direction of the linear relationship b/w two variable.\n"
   ]
  },
  {
   "cell_type": "code",
   "execution_count": 8,
   "metadata": {},
   "outputs": [
    {
     "name": "stdout",
     "output_type": "stream",
     "text": [
      "pandas Correlation: -0.8620035285309332\n",
      "SciPy Correlation: -0.8620035285309331\n",
      "SciPy p-value: 0.0028010650598263567\n"
     ]
    }
   ],
   "source": [
    "import numpy as np\n",
    "import pandas as pd\n",
    "from scipy.stats import pearsonr\n",
    "\n",
    "data = pd.DataFrame({\"price\":[8.75, 8.99, 7.5, 7.25, 7.4, 8.5, 8.4, 7.9, 7.25],\n",
    "                    \"sales\": [73959, 71544, 78587, 80364, 78771, 71986, 74885, 73345, 76659]}) \n",
    "\n",
    "# Using pandas\n",
    "correlation = data['price'].corr(data['sales'])    \n",
    "print(\"pandas Correlation:\",correlation)\n",
    "\n",
    "\n",
    "# Calculate the Pearson correlation coefficient and p-value\n",
    "correlation_scipy, p_value = pearsonr(data['price'], data['sales'])\n",
    "\n",
    "\n",
    "print(\"SciPy Correlation:\", correlation_scipy)\n",
    "print(\"SciPy p-value:\", p_value)"
   ]
  },
  {
   "cell_type": "markdown",
   "metadata": {},
   "source": [
    "The data shows a **significant and strong negative correlation** between price and sales."
   ]
  },
  {
   "cell_type": "markdown",
   "metadata": {},
   "source": [
    "Below  scatter plot indicates **negative  correlation**"
   ]
  },
  {
   "cell_type": "code",
   "execution_count": 9,
   "metadata": {},
   "outputs": [
    {
     "data": {
      "image/png": "[encoded data removed]",
      "text/plain": [
       "<Figure size 432x288 with 1 Axes>"
      ]
     },
     "metadata": {
      "needs_background": "light"
     },
     "output_type": "display_data"
    }
   ],
   "source": [
    "import seaborn as sns\n",
    "import matplotlib.pyplot as plt\n",
    "\n",
    "# Create a scatter plot\n",
    "\n",
    "sns.scatterplot(x='price', y='sales', data=data, color='blue',label='Data points')\n",
    "\n",
    "\n",
    "# Fit a linear model\n",
    "m, b = np.polyfit(data['price'], data['sales'], 1)\n",
    "plt.plot(data['price'], m * data['price'] + b, color='red', linestyle='--', label='Trend Line')\n",
    "\n",
    "\n",
    "\n",
    "plt.title('Scatter Plot of Price vs Sales')\n",
    "plt.xlabel('Price')\n",
    "plt.ylabel('Sales')\n",
    "plt.grid(True)\n",
    "plt.show()"
   ]
  },
  {
   "cell_type": "code",
   "execution_count": 10,
   "metadata": {},
   "outputs": [
    {
     "data": {
      "image/png": "[encoded data removed]",
      "text/plain": [
       "<Figure size 432x288 with 1 Axes>"
      ]
     },
     "metadata": {
      "needs_background": "light"
     },
     "output_type": "display_data"
    }
   ],
   "source": [
    "# Create a scatter plot with a regression line\n",
    "\n",
    "sns.regplot(x='price', y='sales', data=data, scatter_kws={'color': 'blue'}, line_kws={'color': 'red'})\n",
    "plt.title('Scatter Plot with Regression Line of Price vs Sales')\n",
    "plt.xlabel('Price')\n",
    "plt.ylabel('Sales')\n",
    "plt.grid(True)\n",
    "plt.show()"
   ]
  },
  {
   "cell_type": "markdown",
   "metadata": {},
   "source": [
    "## <font color='blue'>Normal Distribution          </font>\n",
    "\n",
    "\n",
    "- It is shaped like a bell curve and symmetric about its mean.\n",
    "\n",
    "\n",
    "\n",
    "- Since it is symmetric about the mean, which is the peak of the curve, its mode and median are equal to its mean."
   ]
  },
  {
   "cell_type": "code",
   "execution_count": 11,
   "metadata": {},
   "outputs": [
    {
     "data": {
      "image/png": "[encoded data removed]",
      "text/plain": [
       "<Figure size 432x288 with 1 Axes>"
      ]
     },
     "metadata": {
      "needs_background": "light"
     },
     "output_type": "display_data"
    }
   ],
   "source": [
    "import numpy as np\n",
    "import seaborn as sns\n",
    "import pandas as pd\n",
    "import matplotlib.pyplot as plt\n",
    "\n",
    "# Set seed for reproducibility\n",
    "np.random.seed(0)\n",
    "\n",
    "# Create data\n",
    "x = np.random.normal(size=500)\n",
    "\n",
    "# Create normal distribution histogram with KDE using distplot\n",
    "\n",
    "sns.distplot(x, kde=True)\n",
    "\n",
    "# Display the plot\n",
    "plt.title('Normal Distribution Histogram with KDE')\n",
    "plt.xlabel('Value')\n",
    "plt.ylabel('Frequency')\n",
    "plt.show()"
   ]
  },
  {
   "cell_type": "markdown",
   "metadata": {},
   "source": [
    "## <font color='blue'>Outliers          </font>\n",
    "\n",
    "- Outliers are data points that significantly differ from the majority of the data in a dataset. \n",
    "\n",
    "\n",
    "-  They can be unusually high or low compared to the rest of the data. \n",
    "\n",
    "\n",
    "\n",
    "\n",
    "**IQR (Interquartile Range) Method**\n",
    "\n"
   ]
  },
  {
   "cell_type": "code",
   "execution_count": 12,
   "metadata": {},
   "outputs": [
    {
     "name": "stdout",
     "output_type": "stream",
     "text": [
      "Q1: 14.5\n",
      "Q3: 21.5\n",
      "IQR: 7.0\n",
      "Lower Bound: 4.0\n",
      "Upper Bound: 32.0\n",
      "Outliers:\n",
      "     Age\n",
      "14  120\n"
     ]
    }
   ],
   "source": [
    "import pandas as pd\n",
    "import numpy as np\n",
    "\n",
    "# Sample data\n",
    "data = {'Age': [15, 12, 12, 13, 14, 15, 16, 17, 18, 20, 21, 22, 25, 30, 120]}\n",
    "df = pd.DataFrame(data)\n",
    "\n",
    "# Calculate Q1 (25th percentile) and Q3 (75th percentile)\n",
    "Q1 = df['Age'].quantile(0.25)\n",
    "Q3 = df['Age'].quantile(0.75)\n",
    "IQR = Q3 - Q1\n",
    "\n",
    "# Determine the outlier boundaries\n",
    "lower_bound = Q1 - 1.5 * IQR\n",
    "upper_bound = Q3 + 1.5 * IQR\n",
    "\n",
    "# Find outliers\n",
    "outliers = df[(df['Age'] < lower_bound) | (df['Age'] > upper_bound)]\n",
    "\n",
    "print(\"Q1:\", Q1)\n",
    "print(\"Q3:\", Q3)\n",
    "print(\"IQR:\", IQR)\n",
    "print(\"Lower Bound:\", lower_bound)\n",
    "print(\"Upper Bound:\", upper_bound)\n",
    "print(\"Outliers:\\n\", outliers)\n"
   ]
  },
  {
   "cell_type": "markdown",
   "metadata": {},
   "source": [
    "**Box Plot**"
   ]
  },
  {
   "cell_type": "code",
   "execution_count": 13,
   "metadata": {},
   "outputs": [
    {
     "data": {
      "image/png": "[encoded data removed]",
      "text/plain": [
       "<Figure size 432x288 with 1 Axes>"
      ]
     },
     "metadata": {
      "needs_background": "light"
     },
     "output_type": "display_data"
    }
   ],
   "source": [
    "import pandas as pd\n",
    "import matplotlib.pyplot as plt\n",
    "import seaborn as sns\n",
    "\n",
    "# Sample data\n",
    "data = {'Age': [15, 12, 12, 13, 14, 15, 16, 17, 18, 20, 21, 22, 25, 30, 120]}\n",
    "df = pd.DataFrame(data)\n",
    "\n",
    "\n",
    "# Create a box plot using seaborn\n",
    "sns.boxplot(x=df['Age'])\n",
    "\n",
    "# Add titles and labels\n",
    "plt.title('Box Plot of Age')\n",
    "plt.xlabel('Age')\n",
    "\n",
    "# Show the plot\n",
    "plt.show()"
   ]
  },
  {
   "cell_type": "code",
   "execution_count": 14,
   "metadata": {},
   "outputs": [
    {
     "data": {
      "image/png": "[encoded data removed]",
      "text/plain": [
       "<Figure size 432x288 with 2 Axes>"
      ]
     },
     "metadata": {
      "needs_background": "light"
     },
     "output_type": "display_data"
    }
   ],
   "source": [
    "import pandas as pd\n",
    "import matplotlib.pyplot as plt\n",
    "import seaborn as sns\n",
    "\n",
    "# Sample data\n",
    "data = {\n",
    "    'Age': [15, 12, 12, 13, 14, 15, 16, 17, 18, 20, 21, 22, 25, 30, 120],\n",
    "    'Weight': [40, 50, 55, 65, 61, 58, 59, 54, 49, 45, 51, 52, 53, 110, 56]\n",
    "}\n",
    "df = pd.DataFrame(data)\n",
    "\n",
    "# Create box plots for both 'Age' and 'Weight'\n",
    "\n",
    "\n",
    "plt.subplot(1, 2, 1)\n",
    "sns.boxplot(x=df['Age'])\n",
    "plt.title('Box Plot of Age')\n",
    "plt.xlabel('Age')\n",
    "\n",
    "plt.subplot(1, 2, 2)\n",
    "sns.boxplot(x=df['Weight'])\n",
    "plt.title('Box Plot of Weight')\n",
    "plt.xlabel('Weight')\n",
    "\n",
    "plt.tight_layout()\n",
    "plt.show()"
   ]
  },
  {
   "cell_type": "code",
   "execution_count": 15,
   "metadata": {},
   "outputs": [
    {
     "data": {
      "image/png": "[encoded data removed]",
      "text/plain": [
       "<Figure size 432x288 with 1 Axes>"
      ]
     },
     "metadata": {
      "needs_background": "light"
     },
     "output_type": "display_data"
    }
   ],
   "source": [
    "import pandas as pd\n",
    "import matplotlib.pyplot as plt\n",
    "import seaborn as sns\n",
    "\n",
    "# Sample data\n",
    "data = {\n",
    "    'Age': [15, 12, 12, 13, 14, 15, 16, 17, 18, 20, 21, 22, 25, 30, 120],\n",
    "    'Weight': [40, 50, 55, 65, 61, 58, 59, 54, 49, 45, 51, 52, 53, 110, 56]\n",
    "}\n",
    "df = pd.DataFrame(data)\n",
    "\n",
    "# Reshape the DataFrame for combined plotting\n",
    "df_melted = df.melt(var_name='Measurement', value_name='Value')\n",
    "\n",
    "# Create the combined box plot\n",
    "\n",
    "sns.boxplot(x='Measurement', y='Value', data=df_melted)\n",
    "plt.title('Box Plot of Age and Weight')\n",
    "plt.xlabel('Measurement')\n",
    "plt.ylabel('Value')\n",
    "\n",
    "# Show the plot\n",
    "plt.show()"
   ]
  },
  {
   "cell_type": "markdown",
   "metadata": {},
   "source": [
    "**Removing Outliers**"
   ]
  },
  {
   "cell_type": "code",
   "execution_count": 16,
   "metadata": {},
   "outputs": [
    {
     "data": {
      "image/png": "[encoded data removed]",
      "text/plain": [
       "<Figure size 576x432 with 1 Axes>"
      ]
     },
     "metadata": {
      "needs_background": "light"
     },
     "output_type": "display_data"
    },
    {
     "name": "stdout",
     "output_type": "stream",
     "text": [
      "Original DataFrame:\n",
      "    Age\n",
      "0    15\n",
      "1    12\n",
      "2    12\n",
      "3    13\n",
      "4    14\n",
      "5    15\n",
      "6    16\n",
      "7    17\n",
      "8    18\n",
      "9    20\n",
      "10   21\n",
      "11   22\n",
      "12   25\n",
      "13   30\n",
      "14  120\n",
      "\n",
      "DataFrame with Outliers Removed:\n",
      "    Age\n",
      "0    15\n",
      "1    12\n",
      "2    12\n",
      "3    13\n",
      "4    14\n",
      "5    15\n",
      "6    16\n",
      "7    17\n",
      "8    18\n",
      "9    20\n",
      "10   21\n",
      "11   22\n",
      "12   25\n",
      "13   30\n"
     ]
    }
   ],
   "source": [
    "import pandas as pd\n",
    "import matplotlib.pyplot as plt\n",
    "import seaborn as sns\n",
    "\n",
    "# Sample data\n",
    "data = {'Age': [15, 12, 12, 13, 14, 15, 16, 17, 18, 20, 21, 22, 25, 30, 120]}\n",
    "df = pd.DataFrame(data)\n",
    "\n",
    "# Calculate Q1 (25th percentile) and Q3 (75th percentile)\n",
    "Q1 = df['Age'].quantile(0.25)\n",
    "Q3 = df['Age'].quantile(0.75)\n",
    "IQR = Q3 - Q1\n",
    "\n",
    "# Determine the outlier boundaries\n",
    "lower_bound = Q1 - 1.5 * IQR\n",
    "upper_bound = Q3 + 1.5 * IQR\n",
    "\n",
    "# Find and remove outliers\n",
    "df_no_outliers = df[(df['Age'] >= lower_bound) & (df['Age'] <= upper_bound)]\n",
    "\n",
    "# Create a box plot for the cleaned data\n",
    "plt.figure(figsize=(8, 6))\n",
    "sns.boxplot(x=df_no_outliers['Age'])\n",
    "plt.title('Box Plot of Age (Outliers Removed)')\n",
    "plt.xlabel('Age')\n",
    "\n",
    "# Show the plot\n",
    "plt.show()\n",
    "\n",
    "# Print the original and cleaned data for comparison\n",
    "print(\"Original DataFrame:\")\n",
    "print(df)\n",
    "print(\"\\nDataFrame with Outliers Removed:\")\n",
    "print(df_no_outliers)"
   ]
  },
  {
   "cell_type": "markdown",
   "metadata": {},
   "source": [
    "## <font color='blue'>Chi-Square Test          </font>\n",
    "\n",
    "\n",
    "**To check if there is an association between the two categorical variables transmission and Fuel_type**\n",
    "\n",
    "\n",
    "- we should use the Chi-Square **Test of Independence**.\n",
    "\n",
    "\n",
    "\n",
    "- This test will help determine if there is a significant relationship between the categories of the two variables.\n",
    "\n",
    "\n",
    "\n",
    "\n",
    "- Tests if the observed distribution of a single categorical variable matches an expected distributionm **use Goodness of Fit** "
   ]
  },
  {
   "cell_type": "code",
   "execution_count": 17,
   "metadata": {},
   "outputs": [
    {
     "data": {
      "text/html": [
       "<div>\n",
       "<style scoped>\n",
       "    .dataframe tbody tr th:only-of-type {\n",
       "        vertical-align: middle;\n",
       "    }\n",
       "\n",
       "    .dataframe tbody tr th {\n",
       "        vertical-align: top;\n",
       "    }\n",
       "\n",
       "    .dataframe thead th {\n",
       "        text-align: right;\n",
       "    }\n",
       "</style>\n",
       "<table border=\"1\" class=\"dataframe\">\n",
       "  <thead>\n",
       "    <tr style=\"text-align: right;\">\n",
       "      <th></th>\n",
       "      <th>transmission</th>\n",
       "      <th>Fuel_type</th>\n",
       "    </tr>\n",
       "  </thead>\n",
       "  <tbody>\n",
       "    <tr>\n",
       "      <th>0</th>\n",
       "      <td>Automatic</td>\n",
       "      <td>Diesel</td>\n",
       "    </tr>\n",
       "    <tr>\n",
       "      <th>1</th>\n",
       "      <td>Manual</td>\n",
       "      <td>petrol</td>\n",
       "    </tr>\n",
       "    <tr>\n",
       "      <th>2</th>\n",
       "      <td>Automatic</td>\n",
       "      <td>CNG</td>\n",
       "    </tr>\n",
       "    <tr>\n",
       "      <th>3</th>\n",
       "      <td>Manual</td>\n",
       "      <td>Diesel</td>\n",
       "    </tr>\n",
       "    <tr>\n",
       "      <th>4</th>\n",
       "      <td>Automatic</td>\n",
       "      <td>petrol</td>\n",
       "    </tr>\n",
       "    <tr>\n",
       "      <th>5</th>\n",
       "      <td>Manual</td>\n",
       "      <td>CNG</td>\n",
       "    </tr>\n",
       "    <tr>\n",
       "      <th>6</th>\n",
       "      <td>Automatic</td>\n",
       "      <td>Diesel</td>\n",
       "    </tr>\n",
       "    <tr>\n",
       "      <th>7</th>\n",
       "      <td>Manual</td>\n",
       "      <td>petrol</td>\n",
       "    </tr>\n",
       "    <tr>\n",
       "      <th>8</th>\n",
       "      <td>Automatic</td>\n",
       "      <td>CNG</td>\n",
       "    </tr>\n",
       "    <tr>\n",
       "      <th>9</th>\n",
       "      <td>Manual</td>\n",
       "      <td>Diesel</td>\n",
       "    </tr>\n",
       "  </tbody>\n",
       "</table>\n",
       "</div>"
      ],
      "text/plain": [
       "  transmission Fuel_type\n",
       "0    Automatic    Diesel\n",
       "1       Manual    petrol\n",
       "2    Automatic       CNG\n",
       "3       Manual    Diesel\n",
       "4    Automatic    petrol\n",
       "5       Manual       CNG\n",
       "6    Automatic    Diesel\n",
       "7       Manual    petrol\n",
       "8    Automatic       CNG\n",
       "9       Manual    Diesel"
      ]
     },
     "execution_count": 17,
     "metadata": {},
     "output_type": "execute_result"
    }
   ],
   "source": [
    "import pandas as pd\n",
    "from scipy.stats import chi2_contingency\n",
    "\n",
    "# Sample data\n",
    "data = {\n",
    "    'transmission': ['Automatic', 'Manual', 'Automatic', 'Manual', 'Automatic', \n",
    "                     'Manual', 'Automatic', 'Manual', 'Automatic', 'Manual'],\n",
    "    'Fuel_type': ['Diesel', 'petrol', 'CNG', 'Diesel', 'petrol', \n",
    "                  'CNG', 'Diesel', 'petrol', 'CNG', 'Diesel']}\n",
    "df = pd.DataFrame(data)\n",
    "df"
   ]
  },
  {
   "cell_type": "code",
   "execution_count": 18,
   "metadata": {},
   "outputs": [
    {
     "name": "stdout",
     "output_type": "stream",
     "text": [
      "Contingency Table:\n",
      "Fuel_type     CNG  Diesel  petrol\n",
      "transmission                     \n",
      "Automatic       2       2       1\n",
      "Manual          1       2       2\n"
     ]
    }
   ],
   "source": [
    "# Create a contingency table\n",
    "contingency_table = pd.crosstab(df['transmission'], df['Fuel_type'])\n",
    "print(\"Contingency Table:\")\n",
    "print(contingency_table)"
   ]
  },
  {
   "cell_type": "code",
   "execution_count": 19,
   "metadata": {},
   "outputs": [
    {
     "name": "stdout",
     "output_type": "stream",
     "text": [
      "\n",
      "Chi-Square Statistic: 0.6666666666666666\n",
      "P-value: 0.7165313105737892\n",
      "Degrees of Freedom: 2\n",
      "Expected Frequencies Table:\n",
      "[[1.5 2.  1.5]\n",
      " [1.5 2.  1.5]]\n"
     ]
    }
   ],
   "source": [
    "# Perform the Chi-Square Test\n",
    "chi2, p, dof, expected = chi2_contingency(contingency_table)\n",
    "\n",
    "# Print results\n",
    "print(\"\\nChi-Square Statistic:\", chi2)\n",
    "print(\"P-value:\", p)\n",
    "print(\"Degrees of Freedom:\", dof)\n",
    "print(\"Expected Frequencies Table:\")\n",
    "print(expected)"
   ]
  },
  {
   "cell_type": "code",
   "execution_count": 20,
   "metadata": {},
   "outputs": [
    {
     "name": "stdout",
     "output_type": "stream",
     "text": [
      "\n",
      " accept the null hypothesis: There is no significant association between transmission and fuel type.\n"
     ]
    }
   ],
   "source": [
    "# Interpretation\n",
    "alpha = 0.05  # Significance level\n",
    "if p < alpha:\n",
    "    print(\"\\nReject the null hypothesis: There is a significant association between transmission and fuel type.\")\n",
    "else:\n",
    "    print(\"\\n accept the null hypothesis: There is no significant association between transmission and fuel type.\")"
   ]
  },
  {
   "cell_type": "markdown",
   "metadata": {},
   "source": [
    "## <font color='blue'>T-Test          </font>\n",
    "\n",
    "\n",
    "\n",
    "**To determine significant difference between the means of two groups or if a single group mean significantly differs from a known value.**\n",
    "\n",
    "\n",
    "**One Sample T-Test**"
   ]
  },
  {
   "cell_type": "markdown",
   "metadata": {},
   "source": [
    "**Example:-** Test whether the average weight of a certain component is significantly different from the target weight. \n",
    "The target weight for the component is 100 grams."
   ]
  },
  {
   "cell_type": "code",
   "execution_count": 21,
   "metadata": {},
   "outputs": [
    {
     "name": "stdout",
     "output_type": "stream",
     "text": [
      "T-statistic: 0.21409631257231665\n",
      "P-value: 0.8335588056456673\n",
      "Accept the null hypothesis: There is no significant difference between the average weight and the target weight.\n"
     ]
    }
   ],
   "source": [
    "import numpy as np\n",
    "from scipy import stats\n",
    "\n",
    "# Sample data: weights of components\n",
    "weights = [98.5, 100.2, 99.9, 100.4, 101.1, 99.7, 100.0, 101.3, 98.8, 100.5, 99.6, 100.7, 101.0, 98.9, 100.1]\n",
    "\n",
    "# Known target weight\n",
    "target_weight = 100\n",
    "\n",
    "# Perform the one-sample T-test\n",
    "t_statistic, p_value = stats.ttest_1samp(weights, target_weight)\n",
    "\n",
    "# Output the results\n",
    "print(\"T-statistic:\", t_statistic)\n",
    "print(\"P-value:\", p_value)\n",
    "\n",
    "# Interpretation\n",
    "alpha = 0.05\n",
    "if p_value < alpha:\n",
    "    print(\"Reject the null hypothesis: The average weight is significantly different from the target weight.\")\n",
    "else:\n",
    "    print(\"Accept the null hypothesis: There is no significant difference between the average weight and the target weight.\")"
   ]
  },
  {
   "cell_type": "markdown",
   "metadata": {},
   "source": [
    "**TWo Sample T-Test**\n",
    "\n",
    "**Example:-** comparing the average production output of two different machines in a factory."
   ]
  },
  {
   "cell_type": "code",
   "execution_count": 22,
   "metadata": {},
   "outputs": [
    {
     "name": "stdout",
     "output_type": "stream",
     "text": [
      "T-statistic: 9.346353872428612\n",
      "P-value: 2.5012907893755474e-08\n",
      "Reject the null hypothesis: There is a significant difference between the average outputs of Machine A and Machine B.\n"
     ]
    }
   ],
   "source": [
    "import numpy as np\n",
    "from scipy import stats\n",
    "\n",
    "# Sample data: production outputs\n",
    "machine_A = [85, 87, 88, 90, 92, 89, 91, 86, 88, 87]\n",
    "machine_B = [78, 80, 79, 81, 82, 77, 83, 79, 78, 80]\n",
    "\n",
    "# Perform the two-sample T-test\n",
    "t_statistic, p_value = stats.ttest_ind(machine_A, machine_B)\n",
    "\n",
    "# Output the results\n",
    "print(\"T-statistic:\", t_statistic)\n",
    "print(\"P-value:\", p_value)\n",
    "\n",
    "# Interpretation\n",
    "alpha = 0.05\n",
    "if p_value < alpha:\n",
    "    print(\"Reject the null hypothesis: There is a significant difference between the average outputs of Machine A and Machine B.\")\n",
    "else:\n",
    "    print(\"Accept the the null hypothesis: There is no significant difference between the average outputs of Machine A and Machine B.\")"
   ]
  },
  {
   "cell_type": "markdown",
   "metadata": {},
   "source": [
    "## <font color='blue'>ANOVA (Analysis of Variance)        </font>\n",
    "\n",
    "\n",
    "**To determine significant difference between the means of 3 or more  groups.**\n",
    "\n",
    "**Example:-** Compare the average performance scores of employees from three different departments to see if there are significant differences between them.\n",
    "\n",
    "- Dependent Variable: The performance scores.\n",
    "\n",
    "- Independent Variable: The department (with levels: Department A, B, C).\n"
   ]
  },
  {
   "cell_type": "code",
   "execution_count": 23,
   "metadata": {},
   "outputs": [
    {
     "name": "stdout",
     "output_type": "stream",
     "text": [
      "F-statistic: 37.61616161616159\n",
      "P-value: 6.776771493833146e-06\n",
      "Reject the null hypothesis: There are significant differences between the means of the departments.\n"
     ]
    }
   ],
   "source": [
    "import numpy as np\n",
    "from scipy import stats\n",
    "\n",
    "# Sample data: performance scores\n",
    "department_a = [85, 87, 88, 90, 92]\n",
    "department_b = [78, 80, 79, 81, 82]\n",
    "department_c = [90, 92, 94, 96, 98]\n",
    "\n",
    "# Perform one-way ANOVA\n",
    "f_statistic, p_value = stats.f_oneway(department_a, department_b, department_c)\n",
    "\n",
    "# Output the results\n",
    "print(\"F-statistic:\", f_statistic)\n",
    "print(\"P-value:\", p_value)\n",
    "\n",
    "# Interpretation\n",
    "alpha = 0.05\n",
    "if p_value < alpha:\n",
    "    print(\"Reject the null hypothesis: There are significant differences between the means of the departments.\")\n",
    "else:\n",
    "    print(\"Accept the null hypothesis: There are no significant differences between the means of the departments.\")"
   ]
  },
  {
   "cell_type": "code",
   "execution_count": null,
   "metadata": {},
   "outputs": [],
   "source": []
  }
 ],
 "metadata": {
  "kernelspec": {
   "display_name": "Python 3",
   "language": "python",
   "name": "python3"
  },
  "language_info": {
   "codemirror_mode": {
    "name": "ipython",
    "version": 3
   },
   "file_extension": ".py",
   "mimetype": "text/x-python",
   "name": "python",
   "nbconvert_exporter": "python",
   "pygments_lexer": "ipython3",
   "version": "3.7.3"
  }
 },
 "nbformat": 4,
 "nbformat_minor": 2
}
